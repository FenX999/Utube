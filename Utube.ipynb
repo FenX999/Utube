{
 "cells": [
  {
   "cell_type": "code",
   "execution_count": null,
   "id": "f9013be8",
   "metadata": {},
   "outputs": [],
   "source": [
    "from selenium import webdriver\n",
    "from selenium.webdriver.chrome.service import Service\n",
    "from selenium.webdriver.common.keys import Keys\n",
    "from selenium.webdriver.common.by import By\n",
    "from selenium.common.exceptions import NoSuchElementException\n",
    "\n",
    "from pytube import YouTube\n",
    "\n",
    "import random, time\n",
    "\n",
    "import config"
   ]
  },
  {
   "cell_type": "code",
   "execution_count": null,
   "id": "57527e29",
   "metadata": {},
   "outputs": [],
   "source": [
    "service = Service(config.WEBDRIVER_PATH)\n",
    "\n",
    "browser_options = webdriver.ChromeOptions()\n",
    "options = [\n",
    "    '--disable-blink-features', \n",
    "    '--no-sandbox', \n",
    "    '--disable-extensions',\n",
    "    '--ignore-certificate-errors', \n",
    "    #'--headless',\n",
    "    '--window-size=1920,1080'\n",
    "   ]\n",
    "for option in options:\n",
    "    browser_options.add_argument(option)\n",
    "browser = webdriver.Chrome(service=service, options=browser_options)\n",
    "\n",
    "\n",
    "searchQuery = \"config.SEARQUERY\"\n",
    "\n",
    "youtube = \"https://www.youtube.com\""
   ]
  },
  {
   "cell_type": "code",
   "execution_count": null,
   "id": "37537ac6",
   "metadata": {},
   "outputs": [],
   "source": [
    "def get_website():\n",
    "    browser.get(youtube)\n",
    "    time.sleep(10)\n",
    "    \n",
    "    try:\n",
    "        browser.find_element(By.XPATH, \"/html/body/ytd-app/ytd-consent-bump-v2-lightbox/tp-yt-paper-dialog/div[4]/div[2]/div[6]/div[1]/ytd-button-renderer[2]/a/tp-yt-paper-button\").click()\n",
    "        print(\"first xpath correct\")\n",
    "    except NoSuchElementException :\n",
    "        print(\"cookie button non responsive changing xpath...\")\n",
    "        time.sleep(3)\n",
    "        key= browser.find_element(By.XPATH, \"/html/body/ytd-app/ytd-consent-bump-v2-lightbox/tp-yt-paper-dialog/div[4]/div[2]/div[6]/div[1]/ytd-button-renderer[2]/yt-button-shape/button\").click()"
   ]
  },
  {
   "cell_type": "code",
   "execution_count": null,
   "id": "182cbe80",
   "metadata": {},
   "outputs": [],
   "source": [
    "def get_results():\n",
    "    browser.find_element(By.XPATH, \"//input[@id='search']\").send_keys(searchQuery)\n",
    "    browser.find_element(By.XPATH, \"//button[@id='search-icon-legacy']\").click()\n",
    "    time.sleep(3)\n",
    "    browser.find_element(By.XPATH, \"/html/body/ytd-app/div[1]/ytd-page-manager/ytd-search/div[1]/ytd-two-column-search-results-renderer/div[2]/div/ytd-section-list-renderer/div[1]/div[2]/ytd-search-sub-menu-renderer/div[1]/div/ytd-toggle-button-renderer\").click()\n",
    "    browser.find_element(By.XPATH, \"//div[@title='Search for Video']\").click()\n",
    "    print('filtering for video format...')\n",
    "    time.sleep(3)\n",
    "    browser.find_element(By.XPATH, \"/html/body/ytd-app/div[1]/ytd-page-manager/ytd-search/div[1]/ytd-two-column-search-results-renderer/div[2]/div/ytd-section-list-renderer/div[1]/div[2]/ytd-search-sub-menu-renderer/div[1]/div/ytd-toggle-button-renderer\").click()\n",
    "    browser.find_element(By.XPATH, \"//div[@title='Search for 4 - 20 minutes']\").click()\n",
    "    print(\"filtering for between 4 to 20 min length...\")\n"
   ]
  },
  {
   "cell_type": "code",
   "execution_count": null,
   "id": "bb52990c",
   "metadata": {},
   "outputs": [],
   "source": [
    "def fetch_results():\n",
    "    fetch_elements =  browser.find_elements(By.TAG_NAME, 'ytd-video-renderer')\n",
    "    return fetch_elements"
   ]
  },
  {
   "cell_type": "code",
   "execution_count": null,
   "id": "f8444e39",
   "metadata": {},
   "outputs": [],
   "source": [
    "def fetch_list():\n",
    "    count = 0\n",
    "    rangeCount = 0\n",
    "    f =  open(str(searchQuery)+\".txt\", \"w+\")\n",
    "    lines = f.readlines()\n",
    "    for i in range(400):\n",
    "        rangeCount +=1\n",
    "        print(rangeCount)\n",
    "        time.sleep(2) \n",
    "        browser.execute_script('window.scrollBy(0,1600)', '')\n",
    "        try:\n",
    "            browser.find_element(By.XPATH, \"/html/body/ytd-app/div[1]/ytd-page-manager/ytd-search/div[1]/ytd-two-column-search-results-renderer/div[2]/div/ytd-section-list-renderer/div[2]/ytd-item-section-renderer[31]/div[3]/ytd-message-renderer/yt-formatted-string[1]\")\n",
    "            results = fetch_results()\n",
    "            total = len(results)\n",
    "            print(f\"total video found: {total}\")\n",
    "            for r in results:\n",
    "                count +=1\n",
    "                link = r.find_element(By.TAG_NAME, 'a').get_attribute('href')\n",
    "                if link in [line for line in lines]:\n",
    "                    pass\n",
    "                else:\n",
    "                    f.write(link+ '\\n')\n",
    "                    yt = YouTube(link)\n",
    "                    yt.streams.get_highest_resolution().download(config.SAVE_PATH)\n",
    "                    print(f\"count at {count} with link {link}\")\n",
    "        except NoSuchElementException:\n",
    "            continue\n",
    "        "
   ]
  },
  {
   "cell_type": "code",
   "execution_count": null,
   "id": "860d11f4",
   "metadata": {},
   "outputs": [],
   "source": [
    "get_website()\n",
    "time.sleep(5)\n",
    "get_results()\n",
    "time.sleep(5)\n",
    "fetch_list()"
   ]
  },
  {
   "cell_type": "code",
   "execution_count": null,
   "id": "9d5c459a",
   "metadata": {},
   "outputs": [],
   "source": [
    "\n",
    "    "
   ]
  },
  {
   "cell_type": "code",
   "execution_count": null,
   "id": "a8758e13",
   "metadata": {},
   "outputs": [],
   "source": [
    "\n"
   ]
  },
  {
   "cell_type": "code",
   "execution_count": null,
   "id": "0c859ff5",
   "metadata": {},
   "outputs": [],
   "source": []
  },
  {
   "cell_type": "code",
   "execution_count": null,
   "id": "1a628ddc",
   "metadata": {},
   "outputs": [],
   "source": []
  }
 ],
 "metadata": {
  "kernelspec": {
   "display_name": ".automated_env",
   "language": "python",
   "name": ".automated_env"
  },
  "language_info": {
   "codemirror_mode": {
    "name": "ipython",
    "version": 3
   },
   "file_extension": ".py",
   "mimetype": "text/x-python",
   "name": "python",
   "nbconvert_exporter": "python",
   "pygments_lexer": "ipython3",
   "version": "3.8.10"
  }
 },
 "nbformat": 4,
 "nbformat_minor": 5
}
